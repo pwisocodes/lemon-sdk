{
 "cells": [
  {
   "cell_type": "markdown",
   "metadata": {},
   "source": [
    "# Setup\n"
   ]
  },
  {
   "cell_type": "code",
   "execution_count": 1,
   "metadata": {},
   "outputs": [],
   "source": [
    "from lemon.core.account import Account\n",
    "from lemon.core.market import MarketData\n",
    "from lemon.core.orders import Order\n",
    "from lemon.client.auth import credentials\n",
    "from lemon.common.enums import TRADING_TYPE, VENUE, ORDERSIDE\n",
    "\n",
    "from pandas import DataFrame\n",
    "from datetime import datetime"
   ]
  },
  {
   "cell_type": "code",
   "execution_count": 3,
   "metadata": {},
   "outputs": [],
   "source": [
    "cred = credentials()\n",
    "\n",
    "acc = Account(credentials=cred, trading_type=TRADING_TYPE.PAPER)"
   ]
  },
  {
   "cell_type": "markdown",
   "metadata": {},
   "source": [
    "## Account\n"
   ]
  },
  {
   "cell_type": "code",
   "execution_count": 12,
   "metadata": {},
   "outputs": [
    {
     "data": {
      "text/plain": [
       "959456000"
      ]
     },
     "execution_count": 12,
     "metadata": {},
     "output_type": "execute_result"
    }
   ],
   "source": [
    "acc.balance"
   ]
  },
  {
   "cell_type": "code",
   "execution_count": 7,
   "metadata": {},
   "outputs": [
    {
     "data": {
      "text/html": [
       "<div>\n",
       "<style scoped>\n",
       "    .dataframe tbody tr th:only-of-type {\n",
       "        vertical-align: middle;\n",
       "    }\n",
       "\n",
       "    .dataframe tbody tr th {\n",
       "        vertical-align: top;\n",
       "    }\n",
       "\n",
       "    .dataframe thead th {\n",
       "        text-align: right;\n",
       "    }\n",
       "</style>\n",
       "<table border=\"1\" class=\"dataframe\">\n",
       "  <thead>\n",
       "    <tr style=\"text-align: right;\">\n",
       "      <th></th>\n",
       "      <th>isin</th>\n",
       "      <th>isin_title</th>\n",
       "      <th>quantity</th>\n",
       "      <th>buy_price_avg</th>\n",
       "      <th>estimated_price_total</th>\n",
       "      <th>estimated_price</th>\n",
       "    </tr>\n",
       "  </thead>\n",
       "  <tbody>\n",
       "    <tr>\n",
       "      <th>0</th>\n",
       "      <td>US19260Q1076</td>\n",
       "      <td>COINBASE GLOBAL INC.</td>\n",
       "      <td>3</td>\n",
       "      <td>2074667</td>\n",
       "      <td>1880400</td>\n",
       "      <td>626800</td>\n",
       "    </tr>\n",
       "    <tr>\n",
       "      <th>1</th>\n",
       "      <td>US88160R1014</td>\n",
       "      <td>TESLA INC.</td>\n",
       "      <td>1</td>\n",
       "      <td>9310000</td>\n",
       "      <td>6290000</td>\n",
       "      <td>6290000</td>\n",
       "    </tr>\n",
       "  </tbody>\n",
       "</table>\n",
       "</div>"
      ],
      "text/plain": [
       "           isin            isin_title  quantity  buy_price_avg  \\\n",
       "0  US19260Q1076  COINBASE GLOBAL INC.         3        2074667   \n",
       "1  US88160R1014            TESLA INC.         1        9310000   \n",
       "\n",
       "   estimated_price_total  estimated_price  \n",
       "0                1880400           626800  \n",
       "1                6290000          6290000  "
      ]
     },
     "execution_count": 7,
     "metadata": {},
     "output_type": "execute_result"
    }
   ],
   "source": [
    "acc.positions()"
   ]
  },
  {
   "cell_type": "code",
   "execution_count": null,
   "metadata": {},
   "outputs": [],
   "source": [
    "withdrawals = acc.withdrawals()\n",
    "DataFrame(withdrawals)"
   ]
  },
  {
   "cell_type": "code",
   "execution_count": null,
   "metadata": {},
   "outputs": [],
   "source": [
    "acc.withdraw(amount=10000, pin=1234)"
   ]
  },
  {
   "cell_type": "code",
   "execution_count": null,
   "metadata": {},
   "outputs": [],
   "source": [
    "bankstatements = acc.bankstatements()\n",
    "DataFrame(bankstatements)"
   ]
  },
  {
   "cell_type": "markdown",
   "metadata": {},
   "source": [
    "## Trading\n"
   ]
  },
  {
   "cell_type": "code",
   "execution_count": null,
   "metadata": {},
   "outputs": [],
   "source": [
    "ord = Order(\n",
    "    isin=\"US88160R1014\",\n",
    "    quantity=1,\n",
    "    side=ORDERSIDE.BUY,\n",
    "    venue=VENUE.ALLDAY,\n",
    "    expires_at=datetime.fromisoformat(\"2022-04-30\"),\n",
    ")\n",
    "ord.place()"
   ]
  },
  {
   "cell_type": "code",
   "execution_count": null,
   "metadata": {},
   "outputs": [],
   "source": [
    "ord.cancel()"
   ]
  },
  {
   "cell_type": "code",
   "execution_count": null,
   "metadata": {},
   "outputs": [],
   "source": [
    "ord.activate()"
   ]
  },
  {
   "cell_type": "code",
   "execution_count": null,
   "metadata": {},
   "outputs": [],
   "source": [
    "orders = acc.orders()\n",
    "DataFrame([o.to_dict() for o in orders])"
   ]
  },
  {
   "cell_type": "markdown",
   "metadata": {},
   "source": [
    "# Market Data\n",
    "\n",
    "Account must still be initialized before to set Credentials.\n"
   ]
  },
  {
   "cell_type": "code",
   "execution_count": null,
   "metadata": {},
   "outputs": [],
   "source": [
    "m = MarketData()"
   ]
  },
  {
   "cell_type": "code",
   "execution_count": null,
   "metadata": {},
   "outputs": [],
   "source": [
    "m.search_instrument(\"XTRACKERS\")"
   ]
  },
  {
   "cell_type": "code",
   "execution_count": null,
   "metadata": {},
   "outputs": [],
   "source": [
    "m.trading_venues()"
   ]
  },
  {
   "cell_type": "code",
   "execution_count": null,
   "metadata": {},
   "outputs": [],
   "source": [
    "m.ohlc(\n",
    "    isin=\"US0231351067\",\n",
    "    timespan=\"d\",\n",
    "    start=datetime.fromisoformat(\"2021-11-01\"),\n",
    "    end=datetime.fromisoformat(\"2021-11-26\"),\n",
    ")"
   ]
  },
  {
   "cell_type": "code",
   "execution_count": null,
   "metadata": {},
   "outputs": [],
   "source": [
    "m.latest_quote(isin=\"DE0005933931\", venue=VENUE.GETTEX)"
   ]
  }
 ],
 "metadata": {
  "interpreter": {
   "hash": "20ac32bddbba6e25d6de857542f2e1051702e9bd13fa47c41a2237cc9301ca57"
  },
  "kernelspec": {
   "display_name": "Python 3.7.5 64-bit ('.venv': poetry)",
   "name": "python3"
  },
  "language_info": {
   "codemirror_mode": {
    "name": "ipython",
    "version": 3
   },
   "file_extension": ".py",
   "mimetype": "text/x-python",
   "name": "python",
   "nbconvert_exporter": "python",
   "pygments_lexer": "ipython3",
   "version": "3.7.5"
  },
  "metadata": {
   "interpreter": {
    "hash": "c1b2645507ccf887673856c1dcfdec577f1ffa1a450a86e0e9b6458b0b3aa62c"
   }
  },
  "orig_nbformat": 2
 },
 "nbformat": 4,
 "nbformat_minor": 2
}
