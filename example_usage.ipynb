{
 "cells": [
  {
   "cell_type": "markdown",
   "metadata": {},
   "source": []
  },
  {
   "cell_type": "code",
   "execution_count": 1,
   "metadata": {},
   "outputs": [],
   "source": [
    "from lemon.core.account import Account\n",
    "from lemon.core.market import MarketData\n",
    "from lemon.core.orders import  Order\n",
    "from lemon.client.auth import credentials"
   ]
  },
  {
   "cell_type": "code",
   "execution_count": 2,
   "metadata": {},
   "outputs": [],
   "source": [
    "cred = credentials()\n",
    "acc = Account(credentials=cred)\n"
   ]
  },
  {
   "cell_type": "code",
   "execution_count": 3,
   "metadata": {},
   "outputs": [
    {
     "data": {
      "text/plain": [
       "995171000"
      ]
     },
     "execution_count": 3,
     "metadata": {},
     "output_type": "execute_result"
    }
   ],
   "source": [
    "acc.balance"
   ]
  },
  {
   "cell_type": "code",
   "execution_count": 29,
   "metadata": {},
   "outputs": [
    {
     "data": {
      "text/plain": [
       "Account(account_id='acc_pyQbNkkppDjw2zbx61GBkkdJ7NMCLdFhPw', firstname='fabian-pfaff@web.de', lastname=None, email='fabian-pfaff@web.de', phone=None, address=None, billing_email=None, billing_address=None, billing_name=None, billing_vat=None, mode='paper', deposit_id=None, client_id=None, account_number=None, iban_brokerage=None, iban_origin=None, bank_name_origin=None, balance=99517.1, cash_to_invest=99517.1, cash_to_withdraw=99517.1, trading_plan='free', data_plan='free', tax_allowance=None, tax_allowance_start=None, tax_allowance_end=None)"
      ]
     },
     "execution_count": 29,
     "metadata": {},
     "output_type": "execute_result"
    }
   ],
   "source": [
    "acc"
   ]
  },
  {
   "cell_type": "code",
   "execution_count": 3,
   "metadata": {},
   "outputs": [],
   "source": [
    "m = MarketData()\n"
   ]
  },
  {
   "cell_type": "code",
   "execution_count": 30,
   "metadata": {},
   "outputs": [
    {
     "data": {
      "text/plain": [
       "[{'id': 'wtd_pyQhdXXDDHsr556LmHJcS4XPR8SDLSw9sG',\n",
       "  'amount': 1000000,\n",
       "  'created_at': '2021-12-26T23:18:52.708+00:00',\n",
       "  'date': '2021-12-26',\n",
       "  'idempotency': None},\n",
       " {'id': 'wtd_pyQhdXXmm0nKfcGNm7zFtNhHdNX4ycKyxn',\n",
       "  'amount': 1000000,\n",
       "  'created_at': '2021-12-26T23:18:29.631+00:00',\n",
       "  'date': '2021-12-26',\n",
       "  'idempotency': None},\n",
       " {'id': 'wtd_pyQgX77666qmmXGC95TmR9XbpbL4LYZczp',\n",
       "  'amount': 1500000,\n",
       "  'created_at': '2021-12-25T18:48:46.833+00:00',\n",
       "  'date': '2021-12-25',\n",
       "  'idempotency': None},\n",
       " {'id': 'wtd_pyQgX77PPG2ZtBlZ5q3zpkLqy4FKKR6Zrm',\n",
       "  'amount': 1000000,\n",
       "  'created_at': '2021-12-25T18:48:11.235+00:00',\n",
       "  'date': '2021-12-25',\n",
       "  'idempotency': None}]"
      ]
     },
     "execution_count": 30,
     "metadata": {},
     "output_type": "execute_result"
    }
   ],
   "source": [
    "acc.withdrawls(\"paper\")"
   ]
  },
  {
   "cell_type": "code",
   "execution_count": 8,
   "metadata": {},
   "outputs": [
    {
     "data": {
      "text/plain": [
       "'ok'"
      ]
     },
     "execution_count": 8,
     "metadata": {},
     "output_type": "execute_result"
    }
   ],
   "source": [
    "acc.withdraw(amount=100000, pin=1234) "
   ]
  },
  {
   "cell_type": "code",
   "execution_count": 9,
   "metadata": {},
   "outputs": [
    {
     "data": {
      "text/html": [
       "<div>\n",
       "<style scoped>\n",
       "    .dataframe tbody tr th:only-of-type {\n",
       "        vertical-align: middle;\n",
       "    }\n",
       "\n",
       "    .dataframe tbody tr th {\n",
       "        vertical-align: top;\n",
       "    }\n",
       "\n",
       "    .dataframe thead th {\n",
       "        text-align: right;\n",
       "    }\n",
       "</style>\n",
       "<table border=\"1\" class=\"dataframe\">\n",
       "  <thead>\n",
       "    <tr style=\"text-align: right;\">\n",
       "      <th></th>\n",
       "      <th>isin</th>\n",
       "      <th>wkn</th>\n",
       "      <th>name</th>\n",
       "      <th>title</th>\n",
       "      <th>symbol</th>\n",
       "      <th>type</th>\n",
       "      <th>venues</th>\n",
       "    </tr>\n",
       "  </thead>\n",
       "  <tbody>\n",
       "    <tr>\n",
       "      <th>0</th>\n",
       "      <td>LU0292097747</td>\n",
       "      <td>DBX1FA</td>\n",
       "      <td>XTRACKERS MSCI UK ESG 1D</td>\n",
       "      <td>XTRACKERS MSCI UK ESG UC.ETF</td>\n",
       "      <td>DBXZ</td>\n",
       "      <td>etf</td>\n",
       "      <td>[{'name': 'Börse München - Gettex', 'title': '...</td>\n",
       "    </tr>\n",
       "    <tr>\n",
       "      <th>1</th>\n",
       "      <td>LU0274211217</td>\n",
       "      <td>DBX1EU</td>\n",
       "      <td>XTR.EURO STOXX 50 1D</td>\n",
       "      <td>XTRACKERS EURO STOXX 50</td>\n",
       "      <td>DBXE</td>\n",
       "      <td>etf</td>\n",
       "      <td>[{'name': 'Börse München - Gettex', 'title': '...</td>\n",
       "    </tr>\n",
       "    <tr>\n",
       "      <th>2</th>\n",
       "      <td>LU0292107645</td>\n",
       "      <td>DBX1EM</td>\n",
       "      <td>XTR.MSCI EM.MKT.SWAP 1C</td>\n",
       "      <td>XTRACKERS MSCI EMERG.MKTS SWAP</td>\n",
       "      <td>DBX1</td>\n",
       "      <td>etf</td>\n",
       "      <td>[{'name': 'Börse München - Gettex', 'title': '...</td>\n",
       "    </tr>\n",
       "    <tr>\n",
       "      <th>3</th>\n",
       "      <td>LU0292109187</td>\n",
       "      <td>DBX1MT</td>\n",
       "      <td>XTR.MSCI TAIWAN 1C</td>\n",
       "      <td>XTRACKERS MSCI TAIWAN</td>\n",
       "      <td>DBX5</td>\n",
       "      <td>etf</td>\n",
       "      <td>[{'name': 'Börse München - Gettex', 'title': '...</td>\n",
       "    </tr>\n",
       "    <tr>\n",
       "      <th>4</th>\n",
       "      <td>LU0321465469</td>\n",
       "      <td>DBX0A0</td>\n",
       "      <td>XTR.II USD OV.RATE SW. 1C</td>\n",
       "      <td>XTRACKERS II USD OVER.RATE SW.</td>\n",
       "      <td>DXSZ</td>\n",
       "      <td>etf</td>\n",
       "      <td>[{'name': 'Börse München - Gettex', 'title': '...</td>\n",
       "    </tr>\n",
       "    <tr>\n",
       "      <th>...</th>\n",
       "      <td>...</td>\n",
       "      <td>...</td>\n",
       "      <td>...</td>\n",
       "      <td>...</td>\n",
       "      <td>...</td>\n",
       "      <td>...</td>\n",
       "      <td>...</td>\n",
       "    </tr>\n",
       "    <tr>\n",
       "      <th>74</th>\n",
       "      <td>LU0820950128</td>\n",
       "      <td>DBX0ND</td>\n",
       "      <td>XTR.II EUR COV.BD SWAP 1C</td>\n",
       "      <td>XTRACKERS II EUR COV.BOND SWAP</td>\n",
       "      <td>XLIQ</td>\n",
       "      <td>etf</td>\n",
       "      <td>[{'name': 'Börse München - Gettex', 'title': '...</td>\n",
       "    </tr>\n",
       "    <tr>\n",
       "      <th>75</th>\n",
       "      <td>LU0839027447</td>\n",
       "      <td>DBX0NJ</td>\n",
       "      <td>XTR.NIKKEI 225 1D</td>\n",
       "      <td>XTRACKERS NIKKEI 225</td>\n",
       "      <td>XDJP</td>\n",
       "      <td>etf</td>\n",
       "      <td>[{'name': 'Börse München - Gettex', 'title': '...</td>\n",
       "    </tr>\n",
       "    <tr>\n",
       "      <th>76</th>\n",
       "      <td>LU0927735406</td>\n",
       "      <td>DBX0NT</td>\n",
       "      <td>XTR.MSCI JAPAN 2DDLH</td>\n",
       "      <td>XTRACKERS MSCI JAPAN</td>\n",
       "      <td>XMUJ</td>\n",
       "      <td>etf</td>\n",
       "      <td>[{'name': 'Börse München - Gettex', 'title': '...</td>\n",
       "    </tr>\n",
       "    <tr>\n",
       "      <th>77</th>\n",
       "      <td>LU1215828218</td>\n",
       "      <td>DBX0Q1</td>\n",
       "      <td>XTR.MSCI EMU 3CSFH</td>\n",
       "      <td>XTRACKERS MSCI EMU</td>\n",
       "      <td>XDUE</td>\n",
       "      <td>etf</td>\n",
       "      <td>[{'name': 'Börse München - Gettex', 'title': '...</td>\n",
       "    </tr>\n",
       "    <tr>\n",
       "      <th>78</th>\n",
       "      <td>LU2196472984</td>\n",
       "      <td>A2P7NV</td>\n",
       "      <td>XTR.S+P500SUETF 5CEOH</td>\n",
       "      <td>XTRACKERS S&amp;P 500 SWAP</td>\n",
       "      <td>XS5E</td>\n",
       "      <td>etf</td>\n",
       "      <td>[{'name': 'Börse München - Gettex', 'title': '...</td>\n",
       "    </tr>\n",
       "  </tbody>\n",
       "</table>\n",
       "<p>79 rows × 7 columns</p>\n",
       "</div>"
      ],
      "text/plain": [
       "            isin     wkn                       name  \\\n",
       "0   LU0292097747  DBX1FA   XTRACKERS MSCI UK ESG 1D   \n",
       "1   LU0274211217  DBX1EU       XTR.EURO STOXX 50 1D   \n",
       "2   LU0292107645  DBX1EM    XTR.MSCI EM.MKT.SWAP 1C   \n",
       "3   LU0292109187  DBX1MT         XTR.MSCI TAIWAN 1C   \n",
       "4   LU0321465469  DBX0A0  XTR.II USD OV.RATE SW. 1C   \n",
       "..           ...     ...                        ...   \n",
       "74  LU0820950128  DBX0ND  XTR.II EUR COV.BD SWAP 1C   \n",
       "75  LU0839027447  DBX0NJ          XTR.NIKKEI 225 1D   \n",
       "76  LU0927735406  DBX0NT       XTR.MSCI JAPAN 2DDLH   \n",
       "77  LU1215828218  DBX0Q1         XTR.MSCI EMU 3CSFH   \n",
       "78  LU2196472984  A2P7NV      XTR.S+P500SUETF 5CEOH   \n",
       "\n",
       "                             title symbol type  \\\n",
       "0     XTRACKERS MSCI UK ESG UC.ETF   DBXZ  etf   \n",
       "1          XTRACKERS EURO STOXX 50   DBXE  etf   \n",
       "2   XTRACKERS MSCI EMERG.MKTS SWAP   DBX1  etf   \n",
       "3            XTRACKERS MSCI TAIWAN   DBX5  etf   \n",
       "4   XTRACKERS II USD OVER.RATE SW.   DXSZ  etf   \n",
       "..                             ...    ...  ...   \n",
       "74  XTRACKERS II EUR COV.BOND SWAP   XLIQ  etf   \n",
       "75            XTRACKERS NIKKEI 225   XDJP  etf   \n",
       "76            XTRACKERS MSCI JAPAN   XMUJ  etf   \n",
       "77              XTRACKERS MSCI EMU   XDUE  etf   \n",
       "78          XTRACKERS S&P 500 SWAP   XS5E  etf   \n",
       "\n",
       "                                               venues  \n",
       "0   [{'name': 'Börse München - Gettex', 'title': '...  \n",
       "1   [{'name': 'Börse München - Gettex', 'title': '...  \n",
       "2   [{'name': 'Börse München - Gettex', 'title': '...  \n",
       "3   [{'name': 'Börse München - Gettex', 'title': '...  \n",
       "4   [{'name': 'Börse München - Gettex', 'title': '...  \n",
       "..                                                ...  \n",
       "74  [{'name': 'Börse München - Gettex', 'title': '...  \n",
       "75  [{'name': 'Börse München - Gettex', 'title': '...  \n",
       "76  [{'name': 'Börse München - Gettex', 'title': '...  \n",
       "77  [{'name': 'Börse München - Gettex', 'title': '...  \n",
       "78  [{'name': 'Börse München - Gettex', 'title': '...  \n",
       "\n",
       "[79 rows x 7 columns]"
      ]
     },
     "execution_count": 9,
     "metadata": {},
     "output_type": "execute_result"
    }
   ],
   "source": [
    "m.search_instrument(\"XTRACKERS\")"
   ]
  },
  {
   "cell_type": "code",
   "execution_count": 23,
   "metadata": {},
   "outputs": [
    {
     "data": {
      "text/html": [
       "<div>\n",
       "<style scoped>\n",
       "    .dataframe tbody tr th:only-of-type {\n",
       "        vertical-align: middle;\n",
       "    }\n",
       "\n",
       "    .dataframe tbody tr th {\n",
       "        vertical-align: top;\n",
       "    }\n",
       "\n",
       "    .dataframe thead th {\n",
       "        text-align: right;\n",
       "    }\n",
       "</style>\n",
       "<table border=\"1\" class=\"dataframe\">\n",
       "  <thead>\n",
       "    <tr style=\"text-align: right;\">\n",
       "      <th></th>\n",
       "      <th>name</th>\n",
       "      <th>title</th>\n",
       "      <th>mic</th>\n",
       "      <th>is_open</th>\n",
       "      <th>opening_hours</th>\n",
       "      <th>opening_days</th>\n",
       "    </tr>\n",
       "  </thead>\n",
       "  <tbody>\n",
       "    <tr>\n",
       "      <th>0</th>\n",
       "      <td>Börse München - Gettex</td>\n",
       "      <td>Gettex</td>\n",
       "      <td>XMUN</td>\n",
       "      <td>False</td>\n",
       "      <td>{'start': '08:00', 'end': '22:00', 'timezone':...</td>\n",
       "      <td>[2022-03-28, 2022-03-29, 2022-03-30, 2022-03-3...</td>\n",
       "    </tr>\n",
       "    <tr>\n",
       "      <th>1</th>\n",
       "      <td>Börse München - LM Best Performance</td>\n",
       "      <td>LM Best Performance</td>\n",
       "      <td>LMBPX</td>\n",
       "      <td>False</td>\n",
       "      <td>{'start': '08:00', 'end': '22:00', 'timezone':...</td>\n",
       "      <td>[2022-03-28, 2022-03-29, 2022-03-30, 2022-03-3...</td>\n",
       "    </tr>\n",
       "  </tbody>\n",
       "</table>\n",
       "</div>"
      ],
      "text/plain": [
       "                                  name                title    mic  is_open  \\\n",
       "0               Börse München - Gettex               Gettex   XMUN    False   \n",
       "1  Börse München - LM Best Performance  LM Best Performance  LMBPX    False   \n",
       "\n",
       "                                       opening_hours  \\\n",
       "0  {'start': '08:00', 'end': '22:00', 'timezone':...   \n",
       "1  {'start': '08:00', 'end': '22:00', 'timezone':...   \n",
       "\n",
       "                                        opening_days  \n",
       "0  [2022-03-28, 2022-03-29, 2022-03-30, 2022-03-3...  \n",
       "1  [2022-03-28, 2022-03-29, 2022-03-30, 2022-03-3...  "
      ]
     },
     "execution_count": 23,
     "metadata": {},
     "output_type": "execute_result"
    }
   ],
   "source": [
    "m.trading_venues()"
   ]
  },
  {
   "cell_type": "code",
   "execution_count": 5,
   "metadata": {},
   "outputs": [
    {
     "ename": "ValueError",
     "evalue": "Parameter <class 'type'> is not a valid parameter!",
     "output_type": "error",
     "traceback": [
      "\u001b[1;31m---------------------------------------------------------------------------\u001b[0m",
      "\u001b[1;31mValueError\u001b[0m                                Traceback (most recent call last)",
      "\u001b[1;32mc:\\Users\\Fabian\\Dev\\lemon-sdk\\example_usage.ipynb Cell 11'\u001b[0m in \u001b[0;36m<cell line: 1>\u001b[1;34m()\u001b[0m\n\u001b[1;32m----> <a href='vscode-notebook-cell:/c%3A/Users/Fabian/Dev/lemon-sdk/example_usage.ipynb#ch0000010?line=0'>1</a>\u001b[0m m\u001b[39m.\u001b[39;49mohlc(isin\u001b[39m=\u001b[39;49m\u001b[39m\"\u001b[39;49m\u001b[39mUS0231351067\u001b[39;49m\u001b[39m\"\u001b[39;49m,start\u001b[39m=\u001b[39;49m\u001b[39m\"\u001b[39;49m\u001b[39m2021-11-01\u001b[39;49m\u001b[39m\"\u001b[39;49m,end\u001b[39m=\u001b[39;49m\u001b[39m\"\u001b[39;49m\u001b[39m2021-11-26\u001b[39;49m\u001b[39m\"\u001b[39;49m)\n",
      "File \u001b[1;32mc:\\Users\\Fabian\\Dev\\lemon-sdk\\lemon\\core\\market.py:119\u001b[0m, in \u001b[0;36mMarketData.ohlc\u001b[1;34m(self, isin, timespan, start, end)\u001b[0m\n\u001b[0;32m    <a href='file:///c%3A/Users/Fabian/Dev/lemon-sdk/lemon/core/market.py?line=105'>106</a>\u001b[0m \u001b[39m\"\"\"[summary]\u001b[39;00m\n\u001b[0;32m    <a href='file:///c%3A/Users/Fabian/Dev/lemon-sdk/lemon/core/market.py?line=106'>107</a>\u001b[0m \n\u001b[0;32m    <a href='file:///c%3A/Users/Fabian/Dev/lemon-sdk/lemon/core/market.py?line=107'>108</a>\u001b[0m \u001b[39mArgs:\u001b[39;00m\n\u001b[1;32m   (...)\u001b[0m\n\u001b[0;32m    <a href='file:///c%3A/Users/Fabian/Dev/lemon-sdk/lemon/core/market.py?line=115'>116</a>\u001b[0m \u001b[39m    [type]: [description]\u001b[39;00m\n\u001b[0;32m    <a href='file:///c%3A/Users/Fabian/Dev/lemon-sdk/lemon/core/market.py?line=116'>117</a>\u001b[0m \u001b[39m\"\"\"\u001b[39;00m\n\u001b[0;32m    <a href='file:///c%3A/Users/Fabian/Dev/lemon-sdk/lemon/core/market.py?line=117'>118</a>\u001b[0m \u001b[39mif\u001b[39;00m timespan \u001b[39mnot\u001b[39;00m \u001b[39min\u001b[39;00m [\u001b[39m\"\u001b[39m\u001b[39mm\u001b[39m\u001b[39m\"\u001b[39m, \u001b[39m\"\u001b[39m\u001b[39mh\u001b[39m\u001b[39m\"\u001b[39m, \u001b[39m\"\u001b[39m\u001b[39md\u001b[39m\u001b[39m\"\u001b[39m]:\n\u001b[1;32m--> <a href='file:///c%3A/Users/Fabian/Dev/lemon-sdk/lemon/core/market.py?line=118'>119</a>\u001b[0m     \u001b[39mraise\u001b[39;00m \u001b[39mValueError\u001b[39;00m(\u001b[39mf\u001b[39m\u001b[39m\"\u001b[39m\u001b[39mParameter \u001b[39m\u001b[39m{\u001b[39;00m\u001b[39mtype\u001b[39m\u001b[39m}\u001b[39;00m\u001b[39m is not a valid parameter!\u001b[39m\u001b[39m\"\u001b[39m)\n\u001b[0;32m    <a href='file:///c%3A/Users/Fabian/Dev/lemon-sdk/lemon/core/market.py?line=120'>121</a>\u001b[0m \u001b[39m# payload = {name: kwargs[name]\u001b[39;00m\n\u001b[0;32m    <a href='file:///c%3A/Users/Fabian/Dev/lemon-sdk/lemon/core/market.py?line=121'>122</a>\u001b[0m \u001b[39m#            for name in kwargs if kwargs[name] is not None}\u001b[39;00m\n\u001b[0;32m    <a href='file:///c%3A/Users/Fabian/Dev/lemon-sdk/lemon/core/market.py?line=122'>123</a>\u001b[0m \n\u001b[1;32m   (...)\u001b[0m\n\u001b[0;32m    <a href='file:///c%3A/Users/Fabian/Dev/lemon-sdk/lemon/core/market.py?line=125'>126</a>\u001b[0m \u001b[39m# else:\u001b[39;00m\n\u001b[0;32m    <a href='file:///c%3A/Users/Fabian/Dev/lemon-sdk/lemon/core/market.py?line=126'>127</a>\u001b[0m \u001b[39m#     payload = \"\"\u001b[39;00m\n\u001b[0;32m    <a href='file:///c%3A/Users/Fabian/Dev/lemon-sdk/lemon/core/market.py?line=128'>129</a>\u001b[0m request \u001b[39m=\u001b[39m ApiRequest(\u001b[39mtype\u001b[39m\u001b[39m=\u001b[39m\u001b[39m\"\u001b[39m\u001b[39mdata\u001b[39m\u001b[39m\"\u001b[39m,\n\u001b[0;32m    <a href='file:///c%3A/Users/Fabian/Dev/lemon-sdk/lemon/core/market.py?line=129'>130</a>\u001b[0m                      endpoint\u001b[39m=\u001b[39m\u001b[39mf\u001b[39m\u001b[39m\"\u001b[39m\u001b[39m/ohlc/\u001b[39m\u001b[39m{\u001b[39;00mtimespan\u001b[39m}\u001b[39;00m\u001b[39m1/?isin=\u001b[39m\u001b[39m{\u001b[39;00misin\u001b[39m}\u001b[39;00m\u001b[39m&from=\u001b[39m\u001b[39m{\u001b[39;00mstart\u001b[39m}\u001b[39;00m\u001b[39m&to=\u001b[39m\u001b[39m{\u001b[39;00mend\u001b[39m}\u001b[39;00m\u001b[39m\"\u001b[39m,\n\u001b[0;32m    <a href='file:///c%3A/Users/Fabian/Dev/lemon-sdk/lemon/core/market.py?line=130'>131</a>\u001b[0m                      method\u001b[39m=\u001b[39m\u001b[39m\"\u001b[39m\u001b[39mGET\u001b[39m\u001b[39m\"\u001b[39m,\n\u001b[0;32m    <a href='file:///c%3A/Users/Fabian/Dev/lemon-sdk/lemon/core/market.py?line=131'>132</a>\u001b[0m                      authorization_token\u001b[39m=\u001b[39mAccount()\u001b[39m.\u001b[39mtoken)\n",
      "\u001b[1;31mValueError\u001b[0m: Parameter <class 'type'> is not a valid parameter!"
     ]
    }
   ],
   "source": [
    "m.ohlc(isin=\"US0231351067\",timespan=\"d\", start=\"2021-11-01\",end=\"2021-11-26\")"
   ]
  },
  {
   "cell_type": "code",
   "execution_count": 25,
   "metadata": {},
   "outputs": [
    {
     "data": {
      "text/html": [
       "<div>\n",
       "<style scoped>\n",
       "    .dataframe tbody tr th:only-of-type {\n",
       "        vertical-align: middle;\n",
       "    }\n",
       "\n",
       "    .dataframe tbody tr th {\n",
       "        vertical-align: top;\n",
       "    }\n",
       "\n",
       "    .dataframe thead th {\n",
       "        text-align: right;\n",
       "    }\n",
       "</style>\n",
       "<table border=\"1\" class=\"dataframe\">\n",
       "  <thead>\n",
       "    <tr style=\"text-align: right;\">\n",
       "      <th></th>\n",
       "      <th>isin</th>\n",
       "      <th>b_v</th>\n",
       "      <th>a_v</th>\n",
       "      <th>b</th>\n",
       "      <th>a</th>\n",
       "      <th>t</th>\n",
       "      <th>mic</th>\n",
       "    </tr>\n",
       "  </thead>\n",
       "  <tbody>\n",
       "    <tr>\n",
       "      <th>0</th>\n",
       "      <td>DE0005933931</td>\n",
       "      <td>170</td>\n",
       "      <td>170</td>\n",
       "      <td>121.82</td>\n",
       "      <td>121.88</td>\n",
       "      <td>2022-03-25T20:59:55.000+00:00</td>\n",
       "      <td>XMUN</td>\n",
       "    </tr>\n",
       "  </tbody>\n",
       "</table>\n",
       "</div>"
      ],
      "text/plain": [
       "           isin  b_v  a_v       b       a                              t   mic\n",
       "0  DE0005933931  170  170  121.82  121.88  2022-03-25T20:59:55.000+00:00  XMUN"
      ]
     },
     "execution_count": 25,
     "metadata": {},
     "output_type": "execute_result"
    }
   ],
   "source": [
    "m.quotes(isin=\"DE0005933931\",mic=\"XMUN\")"
   ]
  },
  {
   "cell_type": "code",
   "execution_count": null,
   "metadata": {},
   "outputs": [],
   "source": [
    "acc.orders(type=\"paper\")"
   ]
  },
  {
   "cell_type": "code",
   "execution_count": null,
   "metadata": {},
   "outputs": [],
   "source": [
    "acc.positions(type=\"paper\")"
   ]
  },
  {
   "cell_type": "code",
   "execution_count": 3,
   "metadata": {},
   "outputs": [
    {
     "data": {
      "text/plain": [
       "'Order with id: ord_qyFjZTT66NMmBmRJJDMSMLPyQQj7qjgx0f created!'"
      ]
     },
     "execution_count": 3,
     "metadata": {},
     "output_type": "execute_result"
    }
   ],
   "source": [
    "# Set trading type\n",
    "ord = Order(isin=\"US88160R1014\",quantity=1,side=\"buy\",venue=\"allday\",expired_at=\"2022-03-31\", trading_type=\"paper\")\n",
    "ord.place()"
   ]
  },
  {
   "cell_type": "code",
   "execution_count": 4,
   "metadata": {},
   "outputs": [
    {
     "data": {
      "text/plain": [
       "'ok'"
      ]
     },
     "execution_count": 4,
     "metadata": {},
     "output_type": "execute_result"
    }
   ],
   "source": [
    "ord.activate()"
   ]
  }
 ],
 "metadata": {
  "interpreter": {
   "hash": "20ac32bddbba6e25d6de857542f2e1051702e9bd13fa47c41a2237cc9301ca57"
  },
  "kernelspec": {
   "display_name": "Python 3.7.5 64-bit ('.venv': poetry)",
   "name": "python3"
  },
  "language_info": {
   "codemirror_mode": {
    "name": "ipython",
    "version": 3
   },
   "file_extension": ".py",
   "mimetype": "text/x-python",
   "name": "python",
   "nbconvert_exporter": "python",
   "pygments_lexer": "ipython3",
   "version": "3.10.4"
  },
  "metadata": {
   "interpreter": {
    "hash": "c1b2645507ccf887673856c1dcfdec577f1ffa1a450a86e0e9b6458b0b3aa62c"
   }
  },
  "orig_nbformat": 2
 },
 "nbformat": 4,
 "nbformat_minor": 2
}
